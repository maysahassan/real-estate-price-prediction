{
 "cells": [
  {
   "cell_type": "code",
   "execution_count": 1,
   "id": "22c53a60",
   "metadata": {
    "slideshow": {
     "slide_type": "skip"
    }
   },
   "outputs": [
    {
     "data": {
      "text/plain": [
       "(25308, 36)"
      ]
     },
     "execution_count": 1,
     "metadata": {},
     "output_type": "execute_result"
    }
   ],
   "source": [
    "import pandas as pd\n",
    "import numpy as np\n",
    "import seaborn as sns\n",
    "import matplotlib.pyplot as plt\n",
    "from matplotlib.ticker import FormatStrFormatter\n",
    "#%matplotlib inline\n",
    "\n",
    "#sns.set(color_codes = True)\n",
    "df = pd.read_csv('propertydataoriginal.csv')\n",
    "df.shape"
   ]
  },
  {
   "cell_type": "code",
   "execution_count": 2,
   "id": "890b17f0",
   "metadata": {
    "slideshow": {
     "slide_type": "skip"
    }
   },
   "outputs": [
    {
     "data": {
      "text/plain": [
       "(25308, 14)"
      ]
     },
     "execution_count": 2,
     "metadata": {},
     "output_type": "execute_result"
    }
   ],
   "source": [
    "to_drop = [ 'user_id',       \n",
    "            'user_personal_language',                             \n",
    "            'user_loginStatus',     \n",
    "            'classified_transactionType',\n",
    "            'classified_atticExists',\n",
    "            'classified_basementExists',\n",
    "            'classified_outdoor_garden_surface',\n",
    "            'classified_specificities_SME_office_exists',\n",
    "            'classified_wellnessEquipment_hasSwimmingPool',\n",
    "            'customer_groupInfo_name',                     \n",
    "            'customer_networkInfo_id',\n",
    "            'customer_networkInfo_name',                           \n",
    "            'screen_name',                          \n",
    "            'screen_language',\n",
    "            'classified_subtype',\n",
    "            'customer_name',\n",
    "            'customer_family',\n",
    "            'classified_visualisationOption',\n",
    "            'classified_condition_isNewlyBuilt',\n",
    "            'customer_groupInfo_id',\n",
    "           'classified_parking_parkingSpaceCount_indoor',\n",
    "           'classified_parking_parkingSpaceCount_outdoor'\n",
    "\n",
    "          ]\n",
    "df.drop(to_drop, inplace=True, axis=1)\n",
    "\n",
    "df.shape\n"
   ]
  },
  {
   "cell_type": "code",
   "execution_count": 3,
   "id": "527fcd92",
   "metadata": {
    "slideshow": {
     "slide_type": "skip"
    }
   },
   "outputs": [
    {
     "name": "stdout",
     "output_type": "stream",
     "text": [
      "<class 'pandas.core.frame.DataFrame'>\n",
      "RangeIndex: 25308 entries, 0 to 25307\n",
      "Data columns (total 14 columns):\n",
      " #   Column                                                 Non-Null Count  Dtype  \n",
      "---  ------                                                 --------------  -----  \n",
      " 0   Unnamed: 0                                             25308 non-null  int64  \n",
      " 1   classified_id                                          25279 non-null  float64\n",
      " 2   classified_type                                        25279 non-null  object \n",
      " 3   classified_price                                       25279 non-null  object \n",
      " 4   classified_zip                                         25279 non-null  float64\n",
      " 5   classified_kitchen_type                                17303 non-null  object \n",
      " 6   classified_building_constructionYear                   15009 non-null  float64\n",
      " 7   classified_building_condition                          18985 non-null  object \n",
      " 8   classified_energy_heatingType                          18017 non-null  object \n",
      " 9   classified_certificates_primaryEnergyConsumptionLevel  19312 non-null  float64\n",
      " 10  classified_bedroom_count                               23507 non-null  float64\n",
      " 11  classified_land_surface                                13300 non-null  float64\n",
      " 12  classified_outdoor_terrace_exists                      15553 non-null  object \n",
      " 13  customer_id                                            25279 non-null  float64\n",
      "dtypes: float64(7), int64(1), object(6)\n",
      "memory usage: 2.7+ MB\n"
     ]
    }
   ],
   "source": [
    "df.info()"
   ]
  },
  {
   "cell_type": "code",
   "execution_count": 4,
   "id": "18b8a516",
   "metadata": {
    "slideshow": {
     "slide_type": "skip"
    }
   },
   "outputs": [
    {
     "data": {
      "text/plain": [
       "False"
      ]
     },
     "execution_count": 4,
     "metadata": {},
     "output_type": "execute_result"
    }
   ],
   "source": [
    "df['classified_id'].is_unique"
   ]
  },
  {
   "cell_type": "code",
   "execution_count": 5,
   "id": "f0f12322",
   "metadata": {
    "slideshow": {
     "slide_type": "skip"
    }
   },
   "outputs": [
    {
     "data": {
      "text/plain": [
       "13"
      ]
     },
     "execution_count": 5,
     "metadata": {},
     "output_type": "execute_result"
    }
   ],
   "source": [
    "df.isna().any().sum()"
   ]
  },
  {
   "cell_type": "code",
   "execution_count": 6,
   "id": "f95701a7",
   "metadata": {
    "slideshow": {
     "slide_type": "skip"
    }
   },
   "outputs": [],
   "source": [
    "df.fillna(value = 0,\n",
    "       inplace = True)\n",
    "df.classified_price = df.classified_price.fillna('None')\n"
   ]
  },
  {
   "cell_type": "code",
   "execution_count": 7,
   "id": "87ad7812",
   "metadata": {
    "slideshow": {
     "slide_type": "skip"
    }
   },
   "outputs": [
    {
     "data": {
      "text/plain": [
       "0        False\n",
       "1        False\n",
       "2        False\n",
       "3        False\n",
       "4        False\n",
       "         ...  \n",
       "25303    False\n",
       "25304    False\n",
       "25305    False\n",
       "25306    False\n",
       "25307    False\n",
       "Length: 25308, dtype: bool"
      ]
     },
     "execution_count": 7,
     "metadata": {},
     "output_type": "execute_result"
    }
   ],
   "source": [
    "df.duplicated()"
   ]
  },
  {
   "cell_type": "code",
   "execution_count": 8,
   "id": "c31dcc0d",
   "metadata": {
    "slideshow": {
     "slide_type": "skip"
    }
   },
   "outputs": [
    {
     "data": {
      "text/plain": [
       "0               339000\n",
       "1               395000\n",
       "2               965000\n",
       "3               249000\n",
       "4               325000\n",
       "             ...      \n",
       "25303           495000\n",
       "25304    280000-635000\n",
       "25305           208000\n",
       "25306           149000\n",
       "25307          1390000\n",
       "Name: classified_price, Length: 25308, dtype: object"
      ]
     },
     "execution_count": 8,
     "metadata": {},
     "output_type": "execute_result"
    }
   ],
   "source": [
    "df['classified_price'].dtypes\n",
    "df.classified_price"
   ]
  },
  {
   "cell_type": "code",
   "execution_count": 9,
   "id": "43f9b083",
   "metadata": {
    "slideshow": {
     "slide_type": "skip"
    }
   },
   "outputs": [
    {
     "name": "stdout",
     "output_type": "stream",
     "text": [
      "Empty DataFrame\n",
      "Columns: [Unnamed: 0, classified_id, classified_type, classified_price, classified_zip, classified_kitchen_type, classified_building_constructionYear, classified_building_condition, classified_energy_heatingType, classified_certificates_primaryEnergyConsumptionLevel, classified_bedroom_count, classified_land_surface, classified_outdoor_terrace_exists, customer_id]\n",
      "Index: []\n"
     ]
    }
   ],
   "source": [
    "print(df[df['classified_price'].isnull()])\n",
    "df['classified_price'] = pd.to_numeric(df['classified_price'], errors='coerce')\n",
    "#And for remove all rows with NaNs in column x use dropna:\n",
    "\n",
    "df = df.dropna(subset=['classified_price'])\n",
    "#Last convert values to ints:\n",
    "\n",
    "df['classified_price'] = df['classified_price'].astype(int)"
   ]
  },
  {
   "cell_type": "code",
   "execution_count": 10,
   "id": "8b03d399",
   "metadata": {
    "slideshow": {
     "slide_type": "skip"
    }
   },
   "outputs": [
    {
     "data": {
      "text/html": [
       "<div>\n",
       "<style scoped>\n",
       "    .dataframe tbody tr th:only-of-type {\n",
       "        vertical-align: middle;\n",
       "    }\n",
       "\n",
       "    .dataframe tbody tr th {\n",
       "        vertical-align: top;\n",
       "    }\n",
       "\n",
       "    .dataframe thead th {\n",
       "        text-align: right;\n",
       "    }\n",
       "</style>\n",
       "<table border=\"1\" class=\"dataframe\">\n",
       "  <thead>\n",
       "    <tr style=\"text-align: right;\">\n",
       "      <th></th>\n",
       "      <th>Unnamed: 0</th>\n",
       "      <th>classified_id</th>\n",
       "      <th>classified_type</th>\n",
       "      <th>classified_price</th>\n",
       "      <th>classified_zip</th>\n",
       "      <th>classified_kitchen_type</th>\n",
       "      <th>classified_building_constructionYear</th>\n",
       "      <th>classified_building_condition</th>\n",
       "      <th>classified_energy_heatingType</th>\n",
       "      <th>classified_certificates_primaryEnergyConsumptionLevel</th>\n",
       "      <th>classified_bedroom_count</th>\n",
       "      <th>classified_land_surface</th>\n",
       "      <th>classified_outdoor_terrace_exists</th>\n",
       "      <th>customer_id</th>\n",
       "    </tr>\n",
       "  </thead>\n",
       "  <tbody>\n",
       "    <tr>\n",
       "      <th>0</th>\n",
       "      <td>0</td>\n",
       "      <td>10146915.0</td>\n",
       "      <td>apartment</td>\n",
       "      <td>339000</td>\n",
       "      <td>9890.0</td>\n",
       "      <td>hyperequipped</td>\n",
       "      <td>2021.0</td>\n",
       "      <td>asnew</td>\n",
       "      <td>gas</td>\n",
       "      <td>1.0</td>\n",
       "      <td>2.0</td>\n",
       "      <td>0.0</td>\n",
       "      <td>True</td>\n",
       "      <td>1989885.0</td>\n",
       "    </tr>\n",
       "    <tr>\n",
       "      <th>1</th>\n",
       "      <td>1</td>\n",
       "      <td>10156372.0</td>\n",
       "      <td>apartment</td>\n",
       "      <td>395000</td>\n",
       "      <td>1140.0</td>\n",
       "      <td>usahyperequipped</td>\n",
       "      <td>2022.0</td>\n",
       "      <td>asnew</td>\n",
       "      <td>gas</td>\n",
       "      <td>54.0</td>\n",
       "      <td>3.0</td>\n",
       "      <td>0.0</td>\n",
       "      <td>True</td>\n",
       "      <td>3845981.0</td>\n",
       "    </tr>\n",
       "    <tr>\n",
       "      <th>3</th>\n",
       "      <td>3</td>\n",
       "      <td>10157770.0</td>\n",
       "      <td>apartment</td>\n",
       "      <td>249000</td>\n",
       "      <td>1800.0</td>\n",
       "      <td>installed</td>\n",
       "      <td>2010.0</td>\n",
       "      <td>good</td>\n",
       "      <td>gas</td>\n",
       "      <td>88.0</td>\n",
       "      <td>2.0</td>\n",
       "      <td>0.0</td>\n",
       "      <td>True</td>\n",
       "      <td>1483.0</td>\n",
       "    </tr>\n",
       "    <tr>\n",
       "      <th>4</th>\n",
       "      <td>4</td>\n",
       "      <td>10157545.0</td>\n",
       "      <td>apartment</td>\n",
       "      <td>325000</td>\n",
       "      <td>8380.0</td>\n",
       "      <td>hyperequipped</td>\n",
       "      <td>1967.0</td>\n",
       "      <td>asnew</td>\n",
       "      <td>gas</td>\n",
       "      <td>99.0</td>\n",
       "      <td>2.0</td>\n",
       "      <td>0.0</td>\n",
       "      <td>True</td>\n",
       "      <td>285802.0</td>\n",
       "    </tr>\n",
       "    <tr>\n",
       "      <th>5</th>\n",
       "      <td>5</td>\n",
       "      <td>10157660.0</td>\n",
       "      <td>apartment</td>\n",
       "      <td>369000</td>\n",
       "      <td>9000.0</td>\n",
       "      <td>usahyperequipped</td>\n",
       "      <td>2007.0</td>\n",
       "      <td>good</td>\n",
       "      <td>gas</td>\n",
       "      <td>127.0</td>\n",
       "      <td>2.0</td>\n",
       "      <td>0.0</td>\n",
       "      <td>True</td>\n",
       "      <td>1989885.0</td>\n",
       "    </tr>\n",
       "  </tbody>\n",
       "</table>\n",
       "</div>"
      ],
      "text/plain": [
       "   Unnamed: 0  classified_id classified_type  classified_price  \\\n",
       "0           0     10146915.0       apartment            339000   \n",
       "1           1     10156372.0       apartment            395000   \n",
       "3           3     10157770.0       apartment            249000   \n",
       "4           4     10157545.0       apartment            325000   \n",
       "5           5     10157660.0       apartment            369000   \n",
       "\n",
       "   classified_zip classified_kitchen_type  \\\n",
       "0          9890.0           hyperequipped   \n",
       "1          1140.0        usahyperequipped   \n",
       "3          1800.0               installed   \n",
       "4          8380.0           hyperequipped   \n",
       "5          9000.0        usahyperequipped   \n",
       "\n",
       "   classified_building_constructionYear classified_building_condition  \\\n",
       "0                                2021.0                         asnew   \n",
       "1                                2022.0                         asnew   \n",
       "3                                2010.0                          good   \n",
       "4                                1967.0                         asnew   \n",
       "5                                2007.0                          good   \n",
       "\n",
       "  classified_energy_heatingType  \\\n",
       "0                           gas   \n",
       "1                           gas   \n",
       "3                           gas   \n",
       "4                           gas   \n",
       "5                           gas   \n",
       "\n",
       "   classified_certificates_primaryEnergyConsumptionLevel  \\\n",
       "0                                                1.0       \n",
       "1                                               54.0       \n",
       "3                                               88.0       \n",
       "4                                               99.0       \n",
       "5                                              127.0       \n",
       "\n",
       "   classified_bedroom_count  classified_land_surface  \\\n",
       "0                       2.0                      0.0   \n",
       "1                       3.0                      0.0   \n",
       "3                       2.0                      0.0   \n",
       "4                       2.0                      0.0   \n",
       "5                       2.0                      0.0   \n",
       "\n",
       "  classified_outdoor_terrace_exists  customer_id  \n",
       "0                              True    1989885.0  \n",
       "1                              True    3845981.0  \n",
       "3                              True       1483.0  \n",
       "4                              True     285802.0  \n",
       "5                              True    1989885.0  "
      ]
     },
     "execution_count": 10,
     "metadata": {},
     "output_type": "execute_result"
    }
   ],
   "source": [
    "df = df[df['classified_price'] !=0]\n",
    "df = df.loc[df['classified_price']< 800000]\n",
    "df.head()"
   ]
  },
  {
   "cell_type": "code",
   "execution_count": 11,
   "id": "0144dfd0",
   "metadata": {
    "slideshow": {
     "slide_type": "skip"
    }
   },
   "outputs": [],
   "source": [
    "df= df[df['classified_building_condition'] != 0]"
   ]
  },
  {
   "cell_type": "code",
   "execution_count": 12,
   "id": "a975844d",
   "metadata": {
    "slideshow": {
     "slide_type": "skip"
    }
   },
   "outputs": [],
   "source": [
    "df = df[df['classified_energy_heatingType'] != 0]"
   ]
  },
  {
   "cell_type": "code",
   "execution_count": 13,
   "id": "ef062606",
   "metadata": {
    "slideshow": {
     "slide_type": "skip"
    }
   },
   "outputs": [],
   "source": [
    "df.drop(df.loc[df['classified_energy_heatingType'] =='solar'].index, inplace=True)"
   ]
  },
  {
   "cell_type": "code",
   "execution_count": 14,
   "id": "67321af2",
   "metadata": {
    "slideshow": {
     "slide_type": "skip"
    }
   },
   "outputs": [],
   "source": [
    "df.drop(df.loc[df['classified_energy_heatingType'] =='wood'].index, inplace=True)"
   ]
  },
  {
   "cell_type": "code",
   "execution_count": 15,
   "id": "f5280979",
   "metadata": {
    "slideshow": {
     "slide_type": "skip"
    }
   },
   "outputs": [],
   "source": [
    "df.drop(df.loc[df['classified_energy_heatingType'] =='carbon'].index, inplace=True)"
   ]
  },
  {
   "cell_type": "code",
   "execution_count": 16,
   "id": "79c53d2a",
   "metadata": {
    "slideshow": {
     "slide_type": "skip"
    }
   },
   "outputs": [],
   "source": [
    "df.drop(df.loc[df['classified_energy_heatingType'] =='pellet'].index, inplace=True)"
   ]
  },
  {
   "cell_type": "code",
   "execution_count": 17,
   "id": "cf7f2b2f",
   "metadata": {
    "slideshow": {
     "slide_type": "skip"
    }
   },
   "outputs": [],
   "source": [
    "df.to_csv('property_data3.csv', index=False)"
   ]
  },
  {
   "cell_type": "code",
   "execution_count": 18,
   "id": "c105a4de",
   "metadata": {
    "slideshow": {
     "slide_type": "skip"
    }
   },
   "outputs": [
    {
     "data": {
      "text/plain": [
       "(13150, 14)"
      ]
     },
     "execution_count": 18,
     "metadata": {},
     "output_type": "execute_result"
    }
   ],
   "source": [
    "df.shape"
   ]
  },
  {
   "cell_type": "code",
   "execution_count": 19,
   "id": "283a75c9",
   "metadata": {
    "slideshow": {
     "slide_type": "skip"
    }
   },
   "outputs": [
    {
     "data": {
      "text/plain": [
       "count     13150.000000\n",
       "mean     336210.204563\n",
       "std      161439.903312\n",
       "min       10000.000000\n",
       "25%      220000.000000\n",
       "50%      295000.000000\n",
       "75%      429000.000000\n",
       "max      799950.000000\n",
       "Name: classified_price, dtype: float64"
      ]
     },
     "execution_count": 19,
     "metadata": {},
     "output_type": "execute_result"
    }
   ],
   "source": [
    "df['classified_price'].describe()"
   ]
  },
  {
   "cell_type": "code",
   "execution_count": 20,
   "id": "17ba5093",
   "metadata": {
    "slideshow": {
     "slide_type": "slide"
    }
   },
   "outputs": [
    {
     "data": {
      "image/png": "[encoded data removed]",
      "text/plain": [
       "<Figure size 432x288 with 1 Axes>"
      ]
     },
     "metadata": {
      "needs_background": "light"
     },
     "output_type": "display_data"
    }
   ],
   "source": [
    "ax = df['classified_price'].plot(kind='box', title='price', color = 'black') #return an object from matplotlib\n",
    "ax.set_ylabel('classified_price')\n",
    "ax.set_xlabel('data set')\n",
    "plt.gca().yaxis.set_major_formatter(FormatStrFormatter('%d euro'))\n",
    "plt.savefig('price.jpg', bbox_inches='tight')\n"
   ]
  },
  {
   "cell_type": "code",
   "execution_count": 21,
   "id": "e004269b",
   "metadata": {
    "slideshow": {
     "slide_type": "subslide"
    }
   },
   "outputs": [
    {
     "data": {
      "image/png": "[encoded data removed]",
      "text/plain": [
       "<Figure size 432x288 with 1 Axes>"
      ]
     },
     "metadata": {
      "needs_background": "light"
     },
     "output_type": "display_data"
    }
   ],
   "source": [
    "# check the distribution of the price\n",
    "\n",
    "plt.hist(df['classified_price'], bins=(20),color = 'green');\n",
    "ax.set_title(\"Average price\")\n",
    "  \n",
    "# adding labels\n",
    "#ax.set_xlabel('price')\n",
    "#ax.set_ylabel('data')\n",
    "#plt.gca().xaxis.set_major_formatter(FormatStrFormatter(' %d euro '))\n",
    "plt.savefig('price_hist.png', bbox_inches='tight')"
   ]
  },
  {
   "cell_type": "code",
   "execution_count": 22,
   "id": "64135748",
   "metadata": {
    "slideshow": {
     "slide_type": "skip"
    }
   },
   "outputs": [
    {
     "data": {
      "text/plain": [
       "dtype('O')"
      ]
     },
     "execution_count": 22,
     "metadata": {},
     "output_type": "execute_result"
    }
   ],
   "source": [
    "df['classified_type'].dtype"
   ]
  },
  {
   "cell_type": "code",
   "execution_count": 23,
   "id": "29ab544c",
   "metadata": {
    "slideshow": {
     "slide_type": "skip"
    }
   },
   "outputs": [
    {
     "data": {
      "text/html": [
       "<div>\n",
       "<style scoped>\n",
       "    .dataframe tbody tr th:only-of-type {\n",
       "        vertical-align: middle;\n",
       "    }\n",
       "\n",
       "    .dataframe tbody tr th {\n",
       "        vertical-align: top;\n",
       "    }\n",
       "\n",
       "    .dataframe thead th {\n",
       "        text-align: right;\n",
       "    }\n",
       "</style>\n",
       "<table border=\"1\" class=\"dataframe\">\n",
       "  <thead>\n",
       "    <tr style=\"text-align: right;\">\n",
       "      <th></th>\n",
       "      <th>Unnamed: 0</th>\n",
       "      <th>classified_id</th>\n",
       "      <th>classified_type</th>\n",
       "      <th>classified_price</th>\n",
       "      <th>classified_zip</th>\n",
       "      <th>classified_kitchen_type</th>\n",
       "      <th>classified_building_constructionYear</th>\n",
       "      <th>classified_building_condition</th>\n",
       "      <th>classified_energy_heatingType</th>\n",
       "      <th>classified_certificates_primaryEnergyConsumptionLevel</th>\n",
       "      <th>classified_bedroom_count</th>\n",
       "      <th>classified_land_surface</th>\n",
       "      <th>classified_outdoor_terrace_exists</th>\n",
       "      <th>customer_id</th>\n",
       "    </tr>\n",
       "  </thead>\n",
       "  <tbody>\n",
       "    <tr>\n",
       "      <th>30</th>\n",
       "      <td>30</td>\n",
       "      <td>10158182.0</td>\n",
       "      <td>house</td>\n",
       "      <td>240000</td>\n",
       "      <td>5300.0</td>\n",
       "      <td>installed</td>\n",
       "      <td>0.0</td>\n",
       "      <td>justrenovated</td>\n",
       "      <td>fueloil</td>\n",
       "      <td>299.0</td>\n",
       "      <td>2.0</td>\n",
       "      <td>300.0</td>\n",
       "      <td>True</td>\n",
       "      <td>1629111.0</td>\n",
       "    </tr>\n",
       "    <tr>\n",
       "      <th>34</th>\n",
       "      <td>34</td>\n",
       "      <td>10158153.0</td>\n",
       "      <td>house</td>\n",
       "      <td>445000</td>\n",
       "      <td>1410.0</td>\n",
       "      <td>hyperequipped</td>\n",
       "      <td>1973.0</td>\n",
       "      <td>good</td>\n",
       "      <td>electric</td>\n",
       "      <td>555.0</td>\n",
       "      <td>2.0</td>\n",
       "      <td>681.0</td>\n",
       "      <td>True</td>\n",
       "      <td>1628452.0</td>\n",
       "    </tr>\n",
       "    <tr>\n",
       "      <th>36</th>\n",
       "      <td>36</td>\n",
       "      <td>9641565.0</td>\n",
       "      <td>house</td>\n",
       "      <td>184000</td>\n",
       "      <td>2550.0</td>\n",
       "      <td>0</td>\n",
       "      <td>0.0</td>\n",
       "      <td>good</td>\n",
       "      <td>gas</td>\n",
       "      <td>0.0</td>\n",
       "      <td>5.0</td>\n",
       "      <td>155.0</td>\n",
       "      <td>True</td>\n",
       "      <td>3160564.0</td>\n",
       "    </tr>\n",
       "    <tr>\n",
       "      <th>37</th>\n",
       "      <td>37</td>\n",
       "      <td>10121293.0</td>\n",
       "      <td>house</td>\n",
       "      <td>275000</td>\n",
       "      <td>1420.0</td>\n",
       "      <td>0</td>\n",
       "      <td>0.0</td>\n",
       "      <td>torenovate</td>\n",
       "      <td>fueloil</td>\n",
       "      <td>515.0</td>\n",
       "      <td>2.0</td>\n",
       "      <td>207.0</td>\n",
       "      <td>0</td>\n",
       "      <td>1790430.0</td>\n",
       "    </tr>\n",
       "    <tr>\n",
       "      <th>68</th>\n",
       "      <td>68</td>\n",
       "      <td>10158182.0</td>\n",
       "      <td>house</td>\n",
       "      <td>240000</td>\n",
       "      <td>5300.0</td>\n",
       "      <td>installed</td>\n",
       "      <td>0.0</td>\n",
       "      <td>justrenovated</td>\n",
       "      <td>fueloil</td>\n",
       "      <td>299.0</td>\n",
       "      <td>2.0</td>\n",
       "      <td>300.0</td>\n",
       "      <td>True</td>\n",
       "      <td>1629111.0</td>\n",
       "    </tr>\n",
       "  </tbody>\n",
       "</table>\n",
       "</div>"
      ],
      "text/plain": [
       "    Unnamed: 0  classified_id classified_type  classified_price  \\\n",
       "30          30     10158182.0           house            240000   \n",
       "34          34     10158153.0           house            445000   \n",
       "36          36      9641565.0           house            184000   \n",
       "37          37     10121293.0           house            275000   \n",
       "68          68     10158182.0           house            240000   \n",
       "\n",
       "    classified_zip classified_kitchen_type  \\\n",
       "30          5300.0               installed   \n",
       "34          1410.0           hyperequipped   \n",
       "36          2550.0                       0   \n",
       "37          1420.0                       0   \n",
       "68          5300.0               installed   \n",
       "\n",
       "    classified_building_constructionYear classified_building_condition  \\\n",
       "30                                   0.0                 justrenovated   \n",
       "34                                1973.0                          good   \n",
       "36                                   0.0                          good   \n",
       "37                                   0.0                    torenovate   \n",
       "68                                   0.0                 justrenovated   \n",
       "\n",
       "   classified_energy_heatingType  \\\n",
       "30                       fueloil   \n",
       "34                      electric   \n",
       "36                           gas   \n",
       "37                       fueloil   \n",
       "68                       fueloil   \n",
       "\n",
       "    classified_certificates_primaryEnergyConsumptionLevel  \\\n",
       "30                                              299.0       \n",
       "34                                              555.0       \n",
       "36                                                0.0       \n",
       "37                                              515.0       \n",
       "68                                              299.0       \n",
       "\n",
       "    classified_bedroom_count  classified_land_surface  \\\n",
       "30                       2.0                    300.0   \n",
       "34                       2.0                    681.0   \n",
       "36                       5.0                    155.0   \n",
       "37                       2.0                    207.0   \n",
       "68                       2.0                    300.0   \n",
       "\n",
       "   classified_outdoor_terrace_exists  customer_id  \n",
       "30                              True    1629111.0  \n",
       "34                              True    1628452.0  \n",
       "36                              True    3160564.0  \n",
       "37                                 0    1790430.0  \n",
       "68                              True    1629111.0  "
      ]
     },
     "execution_count": 23,
     "metadata": {},
     "output_type": "execute_result"
    }
   ],
   "source": [
    "df_house = df[df['classified_type'] == 'house']\n",
    "df_house.shape\n",
    "df_house.head()\n"
   ]
  },
  {
   "cell_type": "code",
   "execution_count": 24,
   "id": "b6bda63e",
   "metadata": {
    "slideshow": {
     "slide_type": "skip"
    }
   },
   "outputs": [
    {
     "data": {
      "text/html": [
       "<div>\n",
       "<style scoped>\n",
       "    .dataframe tbody tr th:only-of-type {\n",
       "        vertical-align: middle;\n",
       "    }\n",
       "\n",
       "    .dataframe tbody tr th {\n",
       "        vertical-align: top;\n",
       "    }\n",
       "\n",
       "    .dataframe thead th {\n",
       "        text-align: right;\n",
       "    }\n",
       "</style>\n",
       "<table border=\"1\" class=\"dataframe\">\n",
       "  <thead>\n",
       "    <tr style=\"text-align: right;\">\n",
       "      <th></th>\n",
       "      <th>Unnamed: 0</th>\n",
       "      <th>classified_id</th>\n",
       "      <th>classified_type</th>\n",
       "      <th>classified_price</th>\n",
       "      <th>classified_zip</th>\n",
       "      <th>classified_kitchen_type</th>\n",
       "      <th>classified_building_constructionYear</th>\n",
       "      <th>classified_building_condition</th>\n",
       "      <th>classified_energy_heatingType</th>\n",
       "      <th>classified_certificates_primaryEnergyConsumptionLevel</th>\n",
       "      <th>classified_bedroom_count</th>\n",
       "      <th>classified_land_surface</th>\n",
       "      <th>classified_outdoor_terrace_exists</th>\n",
       "      <th>customer_id</th>\n",
       "    </tr>\n",
       "  </thead>\n",
       "  <tbody>\n",
       "    <tr>\n",
       "      <th>0</th>\n",
       "      <td>0</td>\n",
       "      <td>10146915.0</td>\n",
       "      <td>apartment</td>\n",
       "      <td>339000</td>\n",
       "      <td>9890.0</td>\n",
       "      <td>hyperequipped</td>\n",
       "      <td>2021.0</td>\n",
       "      <td>asnew</td>\n",
       "      <td>gas</td>\n",
       "      <td>1.0</td>\n",
       "      <td>2.0</td>\n",
       "      <td>0.0</td>\n",
       "      <td>True</td>\n",
       "      <td>1989885.0</td>\n",
       "    </tr>\n",
       "    <tr>\n",
       "      <th>1</th>\n",
       "      <td>1</td>\n",
       "      <td>10156372.0</td>\n",
       "      <td>apartment</td>\n",
       "      <td>395000</td>\n",
       "      <td>1140.0</td>\n",
       "      <td>usahyperequipped</td>\n",
       "      <td>2022.0</td>\n",
       "      <td>asnew</td>\n",
       "      <td>gas</td>\n",
       "      <td>54.0</td>\n",
       "      <td>3.0</td>\n",
       "      <td>0.0</td>\n",
       "      <td>True</td>\n",
       "      <td>3845981.0</td>\n",
       "    </tr>\n",
       "    <tr>\n",
       "      <th>3</th>\n",
       "      <td>3</td>\n",
       "      <td>10157770.0</td>\n",
       "      <td>apartment</td>\n",
       "      <td>249000</td>\n",
       "      <td>1800.0</td>\n",
       "      <td>installed</td>\n",
       "      <td>2010.0</td>\n",
       "      <td>good</td>\n",
       "      <td>gas</td>\n",
       "      <td>88.0</td>\n",
       "      <td>2.0</td>\n",
       "      <td>0.0</td>\n",
       "      <td>True</td>\n",
       "      <td>1483.0</td>\n",
       "    </tr>\n",
       "    <tr>\n",
       "      <th>4</th>\n",
       "      <td>4</td>\n",
       "      <td>10157545.0</td>\n",
       "      <td>apartment</td>\n",
       "      <td>325000</td>\n",
       "      <td>8380.0</td>\n",
       "      <td>hyperequipped</td>\n",
       "      <td>1967.0</td>\n",
       "      <td>asnew</td>\n",
       "      <td>gas</td>\n",
       "      <td>99.0</td>\n",
       "      <td>2.0</td>\n",
       "      <td>0.0</td>\n",
       "      <td>True</td>\n",
       "      <td>285802.0</td>\n",
       "    </tr>\n",
       "    <tr>\n",
       "      <th>5</th>\n",
       "      <td>5</td>\n",
       "      <td>10157660.0</td>\n",
       "      <td>apartment</td>\n",
       "      <td>369000</td>\n",
       "      <td>9000.0</td>\n",
       "      <td>usahyperequipped</td>\n",
       "      <td>2007.0</td>\n",
       "      <td>good</td>\n",
       "      <td>gas</td>\n",
       "      <td>127.0</td>\n",
       "      <td>2.0</td>\n",
       "      <td>0.0</td>\n",
       "      <td>True</td>\n",
       "      <td>1989885.0</td>\n",
       "    </tr>\n",
       "  </tbody>\n",
       "</table>\n",
       "</div>"
      ],
      "text/plain": [
       "   Unnamed: 0  classified_id classified_type  classified_price  \\\n",
       "0           0     10146915.0       apartment            339000   \n",
       "1           1     10156372.0       apartment            395000   \n",
       "3           3     10157770.0       apartment            249000   \n",
       "4           4     10157545.0       apartment            325000   \n",
       "5           5     10157660.0       apartment            369000   \n",
       "\n",
       "   classified_zip classified_kitchen_type  \\\n",
       "0          9890.0           hyperequipped   \n",
       "1          1140.0        usahyperequipped   \n",
       "3          1800.0               installed   \n",
       "4          8380.0           hyperequipped   \n",
       "5          9000.0        usahyperequipped   \n",
       "\n",
       "   classified_building_constructionYear classified_building_condition  \\\n",
       "0                                2021.0                         asnew   \n",
       "1                                2022.0                         asnew   \n",
       "3                                2010.0                          good   \n",
       "4                                1967.0                         asnew   \n",
       "5                                2007.0                          good   \n",
       "\n",
       "  classified_energy_heatingType  \\\n",
       "0                           gas   \n",
       "1                           gas   \n",
       "3                           gas   \n",
       "4                           gas   \n",
       "5                           gas   \n",
       "\n",
       "   classified_certificates_primaryEnergyConsumptionLevel  \\\n",
       "0                                                1.0       \n",
       "1                                               54.0       \n",
       "3                                               88.0       \n",
       "4                                               99.0       \n",
       "5                                              127.0       \n",
       "\n",
       "   classified_bedroom_count  classified_land_surface  \\\n",
       "0                       2.0                      0.0   \n",
       "1                       3.0                      0.0   \n",
       "3                       2.0                      0.0   \n",
       "4                       2.0                      0.0   \n",
       "5                       2.0                      0.0   \n",
       "\n",
       "  classified_outdoor_terrace_exists  customer_id  \n",
       "0                              True    1989885.0  \n",
       "1                              True    3845981.0  \n",
       "3                              True       1483.0  \n",
       "4                              True     285802.0  \n",
       "5                              True    1989885.0  "
      ]
     },
     "execution_count": 24,
     "metadata": {},
     "output_type": "execute_result"
    }
   ],
   "source": [
    "df_apartment = df[df['classified_type'] == 'apartment']\n",
    "df_apartment.shape\n",
    "df_apartment.head()"
   ]
  },
  {
   "cell_type": "code",
   "execution_count": 25,
   "id": "fb9083f4",
   "metadata": {
    "slideshow": {
     "slide_type": "skip"
    }
   },
   "outputs": [
    {
     "data": {
      "text/plain": [
       "348846.38423769356"
      ]
     },
     "execution_count": 25,
     "metadata": {},
     "output_type": "execute_result"
    }
   ],
   "source": [
    "house_mean = df_house['classified_price'].mean()\n",
    "house_mean"
   ]
  },
  {
   "cell_type": "code",
   "execution_count": 26,
   "id": "c679c4ef",
   "metadata": {
    "slideshow": {
     "slide_type": "skip"
    }
   },
   "outputs": [
    {
     "data": {
      "text/plain": [
       "305000.0"
      ]
     },
     "execution_count": 26,
     "metadata": {},
     "output_type": "execute_result"
    }
   ],
   "source": [
    "house_median = df_house['classified_price'].median()\n",
    "house_median"
   ]
  },
  {
   "cell_type": "code",
   "execution_count": 27,
   "id": "254b9cda",
   "metadata": {
    "slideshow": {
     "slide_type": "skip"
    }
   },
   "outputs": [
    {
     "data": {
      "text/plain": [
       "0    275000\n",
       "Name: classified_price, dtype: int32"
      ]
     },
     "execution_count": 27,
     "metadata": {},
     "output_type": "execute_result"
    }
   ],
   "source": [
    "house_mode = df_house['classified_price'].mode()\n",
    "house_mode"
   ]
  },
  {
   "cell_type": "code",
   "execution_count": 28,
   "id": "b3893df1",
   "metadata": {
    "slideshow": {
     "slide_type": "skip"
    }
   },
   "outputs": [
    {
     "data": {
      "text/plain": [
       "316934.3883234108"
      ]
     },
     "execution_count": 28,
     "metadata": {},
     "output_type": "execute_result"
    }
   ],
   "source": [
    "apartment_mean = df_apartment['classified_price'].mean()\n",
    "apartment_mean"
   ]
  },
  {
   "cell_type": "code",
   "execution_count": 29,
   "id": "3500b87f",
   "metadata": {
    "slideshow": {
     "slide_type": "skip"
    }
   },
   "outputs": [
    {
     "data": {
      "text/plain": [
       "274000.0"
      ]
     },
     "execution_count": 29,
     "metadata": {},
     "output_type": "execute_result"
    }
   ],
   "source": [
    "apartment_median = df_apartment['classified_price'].median()\n",
    "apartment_median"
   ]
  },
  {
   "cell_type": "code",
   "execution_count": 30,
   "id": "22b58e2e",
   "metadata": {
    "slideshow": {
     "slide_type": "skip"
    }
   },
   "outputs": [
    {
     "data": {
      "text/plain": [
       "0    260000\n",
       "Name: classified_price, dtype: int32"
      ]
     },
     "execution_count": 30,
     "metadata": {},
     "output_type": "execute_result"
    }
   ],
   "source": [
    "apartment_mode = df_apartment['classified_price'].mode()\n",
    "apartment_mode"
   ]
  },
  {
   "cell_type": "code",
   "execution_count": 31,
   "id": "7d3ca7f2",
   "metadata": {
    "slideshow": {
     "slide_type": "skip"
    }
   },
   "outputs": [
    {
     "name": "stdout",
     "output_type": "stream",
     "text": [
      "31912\n",
      "31000\n",
      "0    15000\n",
      "Name: classified_price, dtype: int32\n"
     ]
    }
   ],
   "source": [
    "print(round(house_mean - apartment_mean))\n",
    "print(round(house_median - apartment_median))\n",
    "print(round(house_mode - apartment_mode))"
   ]
  },
  {
   "cell_type": "code",
   "execution_count": 32,
   "id": "6179036e",
   "metadata": {
    "slideshow": {
     "slide_type": "skip"
    }
   },
   "outputs": [
    {
     "name": "stderr",
     "output_type": "stream",
     "text": [
      "C:\\Users\\PC\\AppData\\Local\\Temp\\ipykernel_20296\\116784925.py:1: FutureWarning: ['classified_kitchen_type', 'classified_building_condition', 'classified_energy_heatingType'] did not aggregate successfully. If any error is raised this will raise in a future version of pandas. Drop these columns/ops to avoid this warning.\n",
      "  df_prices = df.groupby(\"classified_type\").agg([np.mean, np.std])\n"
     ]
    }
   ],
   "source": [
    "df_prices = df.groupby(\"classified_type\").agg([np.mean, np.std])"
   ]
  },
  {
   "cell_type": "code",
   "execution_count": 33,
   "id": "8445b38e",
   "metadata": {
    "scrolled": true,
    "slideshow": {
     "slide_type": "skip"
    }
   },
   "outputs": [
    {
     "data": {
      "text/html": [
       "<div>\n",
       "<style scoped>\n",
       "    .dataframe tbody tr th:only-of-type {\n",
       "        vertical-align: middle;\n",
       "    }\n",
       "\n",
       "    .dataframe tbody tr th {\n",
       "        vertical-align: top;\n",
       "    }\n",
       "\n",
       "    .dataframe thead th {\n",
       "        text-align: right;\n",
       "    }\n",
       "</style>\n",
       "<table border=\"1\" class=\"dataframe\">\n",
       "  <thead>\n",
       "    <tr style=\"text-align: right;\">\n",
       "      <th></th>\n",
       "      <th>mean</th>\n",
       "      <th>std</th>\n",
       "    </tr>\n",
       "    <tr>\n",
       "      <th>classified_type</th>\n",
       "      <th></th>\n",
       "      <th></th>\n",
       "    </tr>\n",
       "  </thead>\n",
       "  <tbody>\n",
       "    <tr>\n",
       "      <th>apartment</th>\n",
       "      <td>316934.388323</td>\n",
       "      <td>151102.293828</td>\n",
       "    </tr>\n",
       "    <tr>\n",
       "      <th>house</th>\n",
       "      <td>348846.384238</td>\n",
       "      <td>166675.480812</td>\n",
       "    </tr>\n",
       "  </tbody>\n",
       "</table>\n",
       "</div>"
      ],
      "text/plain": [
       "                          mean            std\n",
       "classified_type                              \n",
       "apartment        316934.388323  151102.293828\n",
       "house            348846.384238  166675.480812"
      ]
     },
     "execution_count": 33,
     "metadata": {},
     "output_type": "execute_result"
    }
   ],
   "source": [
    "prices = df_prices['classified_price'] \n",
    "# checking for results\n",
    "prices.head()"
   ]
  },
  {
   "cell_type": "code",
   "execution_count": 34,
   "id": "236cf393",
   "metadata": {
    "slideshow": {
     "slide_type": "slide"
    }
   },
   "outputs": [
    {
     "data": {
      "image/png": "[encoded data removed]",
      "text/plain": [
       "<Figure size 432x288 with 1 Axes>"
      ]
     },
     "metadata": {
      "needs_background": "light"
     },
     "output_type": "display_data"
    }
   ],
   "source": [
    "prices.plot(kind = \"barh\", y = \"mean\", legend = False,\n",
    "          xerr = \"std\", title = \"price\", color='green')\n",
    "plt.gca().xaxis.set_major_formatter(FormatStrFormatter(' %deuro '))\n",
    "plt.savefig('proptype.png',bbox_inches='tight')"
   ]
  },
  {
   "cell_type": "code",
   "execution_count": 35,
   "id": "2b6d0983",
   "metadata": {},
   "outputs": [
    {
     "name": "stderr",
     "output_type": "stream",
     "text": [
      "C:\\Users\\PC\\AppData\\Local\\Temp\\ipykernel_20296\\2288473733.py:1: FutureWarning: ['classified_type', 'classified_kitchen_type', 'classified_energy_heatingType'] did not aggregate successfully. If any error is raised this will raise in a future version of pandas. Drop these columns/ops to avoid this warning.\n",
      "  df_prices1 = df.groupby(\"classified_building_condition\").agg([np.mean, np.std])\n"
     ]
    }
   ],
   "source": [
    "df_prices1 = df.groupby(\"classified_building_condition\").agg([np.mean, np.std])"
   ]
  },
  {
   "cell_type": "code",
   "execution_count": 36,
   "id": "ad0869f1",
   "metadata": {},
   "outputs": [
    {
     "data": {
      "text/html": [
       "<div>\n",
       "<style scoped>\n",
       "    .dataframe tbody tr th:only-of-type {\n",
       "        vertical-align: middle;\n",
       "    }\n",
       "\n",
       "    .dataframe tbody tr th {\n",
       "        vertical-align: top;\n",
       "    }\n",
       "\n",
       "    .dataframe thead th {\n",
       "        text-align: right;\n",
       "    }\n",
       "</style>\n",
       "<table border=\"1\" class=\"dataframe\">\n",
       "  <thead>\n",
       "    <tr style=\"text-align: right;\">\n",
       "      <th></th>\n",
       "      <th>mean</th>\n",
       "      <th>std</th>\n",
       "    </tr>\n",
       "    <tr>\n",
       "      <th>classified_building_condition</th>\n",
       "      <th></th>\n",
       "      <th></th>\n",
       "    </tr>\n",
       "  </thead>\n",
       "  <tbody>\n",
       "    <tr>\n",
       "      <th>asnew</th>\n",
       "      <td>390446.005606</td>\n",
       "      <td>165668.831539</td>\n",
       "    </tr>\n",
       "    <tr>\n",
       "      <th>good</th>\n",
       "      <td>337039.840889</td>\n",
       "      <td>160634.156380</td>\n",
       "    </tr>\n",
       "    <tr>\n",
       "      <th>justrenovated</th>\n",
       "      <td>327742.483547</td>\n",
       "      <td>143044.002097</td>\n",
       "    </tr>\n",
       "    <tr>\n",
       "      <th>tobedoneup</th>\n",
       "      <td>292500.795060</td>\n",
       "      <td>151615.564922</td>\n",
       "    </tr>\n",
       "    <tr>\n",
       "      <th>torenovate</th>\n",
       "      <td>271555.088158</td>\n",
       "      <td>136639.609251</td>\n",
       "    </tr>\n",
       "  </tbody>\n",
       "</table>\n",
       "</div>"
      ],
      "text/plain": [
       "                                        mean            std\n",
       "classified_building_condition                              \n",
       "asnew                          390446.005606  165668.831539\n",
       "good                           337039.840889  160634.156380\n",
       "justrenovated                  327742.483547  143044.002097\n",
       "tobedoneup                     292500.795060  151615.564922\n",
       "torenovate                     271555.088158  136639.609251"
      ]
     },
     "execution_count": 36,
     "metadata": {},
     "output_type": "execute_result"
    }
   ],
   "source": [
    "prices1 = df_prices1['classified_price'] \n",
    "# checking for results\n",
    "prices1.head()"
   ]
  },
  {
   "cell_type": "code",
   "execution_count": 37,
   "id": "ef01cbde",
   "metadata": {
    "scrolled": true
   },
   "outputs": [
    {
     "data": {
      "image/png": "[encoded data removed]",
      "text/plain": [
       "<Figure size 432x288 with 1 Axes>"
      ]
     },
     "metadata": {
      "needs_background": "light"
     },
     "output_type": "display_data"
    }
   ],
   "source": [
    "prices1.plot(kind = \"barh\", y = \"mean\", legend = False,\n",
    "          xerr = \"std\", title = \"price\", color='green')\n",
    "plt.gca().xaxis.set_major_formatter(FormatStrFormatter('%deuro'))\n",
    "plt.savefig('propcondition.png',bbox_inches='tight')"
   ]
  },
  {
   "cell_type": "code",
   "execution_count": 38,
   "id": "42aa2de1",
   "metadata": {},
   "outputs": [
    {
     "name": "stderr",
     "output_type": "stream",
     "text": [
      "C:\\Users\\PC\\AppData\\Local\\Temp\\ipykernel_20296\\3744542486.py:1: FutureWarning: ['classified_type', 'classified_kitchen_type', 'classified_energy_heatingType'] did not aggregate successfully. If any error is raised this will raise in a future version of pandas. Drop these columns/ops to avoid this warning.\n",
      "  df_houseprices = df_house.groupby(\"classified_building_condition\").agg([np.mean, np.std])\n"
     ]
    }
   ],
   "source": [
    "df_houseprices = df_house.groupby(\"classified_building_condition\").agg([np.mean, np.std])"
   ]
  },
  {
   "cell_type": "code",
   "execution_count": 39,
   "id": "b960f203",
   "metadata": {},
   "outputs": [
    {
     "data": {
      "text/html": [
       "<div>\n",
       "<style scoped>\n",
       "    .dataframe tbody tr th:only-of-type {\n",
       "        vertical-align: middle;\n",
       "    }\n",
       "\n",
       "    .dataframe tbody tr th {\n",
       "        vertical-align: top;\n",
       "    }\n",
       "\n",
       "    .dataframe thead th {\n",
       "        text-align: right;\n",
       "    }\n",
       "</style>\n",
       "<table border=\"1\" class=\"dataframe\">\n",
       "  <thead>\n",
       "    <tr style=\"text-align: right;\">\n",
       "      <th></th>\n",
       "      <th>mean</th>\n",
       "      <th>std</th>\n",
       "    </tr>\n",
       "    <tr>\n",
       "      <th>classified_building_condition</th>\n",
       "      <th></th>\n",
       "      <th></th>\n",
       "    </tr>\n",
       "  </thead>\n",
       "  <tbody>\n",
       "    <tr>\n",
       "      <th>asnew</th>\n",
       "      <td>436697.761644</td>\n",
       "      <td>160769.551538</td>\n",
       "    </tr>\n",
       "    <tr>\n",
       "      <th>good</th>\n",
       "      <td>370630.765591</td>\n",
       "      <td>168831.090616</td>\n",
       "    </tr>\n",
       "    <tr>\n",
       "      <th>justrenovated</th>\n",
       "      <td>325123.399696</td>\n",
       "      <td>146144.837096</td>\n",
       "    </tr>\n",
       "    <tr>\n",
       "      <th>tobedoneup</th>\n",
       "      <td>302402.503051</td>\n",
       "      <td>155179.885011</td>\n",
       "    </tr>\n",
       "    <tr>\n",
       "      <th>torenovate</th>\n",
       "      <td>272960.718373</td>\n",
       "      <td>134313.309079</td>\n",
       "    </tr>\n",
       "  </tbody>\n",
       "</table>\n",
       "</div>"
      ],
      "text/plain": [
       "                                        mean            std\n",
       "classified_building_condition                              \n",
       "asnew                          436697.761644  160769.551538\n",
       "good                           370630.765591  168831.090616\n",
       "justrenovated                  325123.399696  146144.837096\n",
       "tobedoneup                     302402.503051  155179.885011\n",
       "torenovate                     272960.718373  134313.309079"
      ]
     },
     "execution_count": 39,
     "metadata": {},
     "output_type": "execute_result"
    }
   ],
   "source": [
    "houseprices = df_houseprices['classified_price'] \n",
    "# checking for results\n",
    "houseprices.head()"
   ]
  },
  {
   "cell_type": "code",
   "execution_count": 40,
   "id": "fd773c76",
   "metadata": {
    "scrolled": true
   },
   "outputs": [
    {
     "data": {
      "image/png": "[encoded data removed]",
      "text/plain": [
       "<Figure size 432x288 with 1 Axes>"
      ]
     },
     "metadata": {
      "needs_background": "light"
     },
     "output_type": "display_data"
    }
   ],
   "source": [
    "houseprices.plot(kind = \"barh\", y = \"mean\", legend = False,\n",
    "            title = \"Average house Prices\", color = ('blue'))\n",
    "plt.gca().xaxis.set_major_formatter(FormatStrFormatter('%deuro'))\n",
    "plt.savefig('housescondition.png',bbox_inches='tight')"
   ]
  },
  {
   "cell_type": "code",
   "execution_count": 41,
   "id": "16329786",
   "metadata": {},
   "outputs": [
    {
     "name": "stderr",
     "output_type": "stream",
     "text": [
      "C:\\Users\\PC\\AppData\\Local\\Temp\\ipykernel_20296\\4025703129.py:1: FutureWarning: ['classified_type', 'classified_kitchen_type', 'classified_energy_heatingType'] did not aggregate successfully. If any error is raised this will raise in a future version of pandas. Drop these columns/ops to avoid this warning.\n",
      "  df_apartmentprices = df_apartment.groupby(\"classified_building_condition\").agg([np.mean, np.std])\n"
     ]
    }
   ],
   "source": [
    "df_apartmentprices = df_apartment.groupby(\"classified_building_condition\").agg([np.mean, np.std])"
   ]
  },
  {
   "cell_type": "code",
   "execution_count": 42,
   "id": "fd58f39d",
   "metadata": {},
   "outputs": [
    {
     "data": {
      "text/html": [
       "<div>\n",
       "<style scoped>\n",
       "    .dataframe tbody tr th:only-of-type {\n",
       "        vertical-align: middle;\n",
       "    }\n",
       "\n",
       "    .dataframe tbody tr th {\n",
       "        vertical-align: top;\n",
       "    }\n",
       "\n",
       "    .dataframe thead th {\n",
       "        text-align: right;\n",
       "    }\n",
       "</style>\n",
       "<table border=\"1\" class=\"dataframe\">\n",
       "  <thead>\n",
       "    <tr style=\"text-align: right;\">\n",
       "      <th></th>\n",
       "      <th>mean</th>\n",
       "      <th>std</th>\n",
       "    </tr>\n",
       "    <tr>\n",
       "      <th>classified_building_condition</th>\n",
       "      <th></th>\n",
       "      <th></th>\n",
       "    </tr>\n",
       "  </thead>\n",
       "  <tbody>\n",
       "    <tr>\n",
       "      <th>asnew</th>\n",
       "      <td>366511.377599</td>\n",
       "      <td>163112.587944</td>\n",
       "    </tr>\n",
       "    <tr>\n",
       "      <th>good</th>\n",
       "      <td>278587.475012</td>\n",
       "      <td>125429.545111</td>\n",
       "    </tr>\n",
       "    <tr>\n",
       "      <th>justrenovated</th>\n",
       "      <td>331695.137615</td>\n",
       "      <td>138304.816796</td>\n",
       "    </tr>\n",
       "    <tr>\n",
       "      <th>tobedoneup</th>\n",
       "      <td>260143.931624</td>\n",
       "      <td>134540.730695</td>\n",
       "    </tr>\n",
       "    <tr>\n",
       "      <th>torenovate</th>\n",
       "      <td>261832.812500</td>\n",
       "      <td>151784.723608</td>\n",
       "    </tr>\n",
       "  </tbody>\n",
       "</table>\n",
       "</div>"
      ],
      "text/plain": [
       "                                        mean            std\n",
       "classified_building_condition                              \n",
       "asnew                          366511.377599  163112.587944\n",
       "good                           278587.475012  125429.545111\n",
       "justrenovated                  331695.137615  138304.816796\n",
       "tobedoneup                     260143.931624  134540.730695\n",
       "torenovate                     261832.812500  151784.723608"
      ]
     },
     "execution_count": 42,
     "metadata": {},
     "output_type": "execute_result"
    }
   ],
   "source": [
    "apartmentprices = df_apartmentprices['classified_price']\n",
    " \n",
    "# checking for results\n",
    "apartmentprices.head()"
   ]
  },
  {
   "cell_type": "code",
   "execution_count": 43,
   "id": "08a10f93",
   "metadata": {
    "scrolled": true
   },
   "outputs": [
    {
     "data": {
      "image/png": "[encoded data removed]",
      "text/plain": [
       "<Figure size 432x288 with 1 Axes>"
      ]
     },
     "metadata": {
      "needs_background": "light"
     },
     "output_type": "display_data"
    }
   ],
   "source": [
    "apartmentprices.plot(kind = \"barh\", y = \"mean\", legend = False,\n",
    "            title = \"Average apartment Prices\", color = 'yellow')\n",
    "plt.xlable = 'price (x*1e-9)'\n",
    "plt.gca().xaxis.set_major_formatter(FormatStrFormatter('%d'))                        \n",
    "plt.savefig('apartmentcondition.png',bbox_inches='tight')"
   ]
  },
  {
   "cell_type": "code",
   "execution_count": 44,
   "id": "e02f048c",
   "metadata": {},
   "outputs": [],
   "source": [
    "df2 = df.groupby(['classified_type', 'classified_building_condition'])[\"classified_price\"].median()#agg([np.mean, np.std])"
   ]
  },
  {
   "cell_type": "code",
   "execution_count": 45,
   "id": "873df980",
   "metadata": {},
   "outputs": [
    {
     "data": {
      "image/png": "[encoded data removed]",
      "text/plain": [
       "<Figure size 432x288 with 1 Axes>"
      ]
     },
     "metadata": {
      "needs_background": "light"
     },
     "output_type": "display_data"
    }
   ],
   "source": [
    "df2.unstack(\"classified_type\").plot.bar(color = ('yellow', 'blue'), ylabel ='price')\n",
    "plt.gca().yaxis.set_major_formatter(FormatStrFormatter('%d euro'))\n",
    "plt.savefig('propertiescond.png',bbox_inches='tight')"
   ]
  },
  {
   "cell_type": "code",
   "execution_count": 46,
   "id": "2d22cc94",
   "metadata": {},
   "outputs": [
    {
     "data": {
      "text/plain": [
       "classified_type  classified_energy_heatingType\n",
       "apartment        electric                         265289.068410\n",
       "                 fueloil                          311421.645885\n",
       "                 gas                              323404.180320\n",
       "house            electric                         401916.138686\n",
       "                 fueloil                          338105.652225\n",
       "                 gas                              348522.678461\n",
       "Name: classified_price, dtype: float64"
      ]
     },
     "execution_count": 46,
     "metadata": {},
     "output_type": "execute_result"
    }
   ],
   "source": [
    "df3 = df.groupby(['classified_type', 'classified_energy_heatingType'])[\"classified_price\"].mean()\n",
    "df3                 "
   ]
  },
  {
   "cell_type": "code",
   "execution_count": 51,
   "id": "856b272b",
   "metadata": {},
   "outputs": [
    {
     "data": {
      "image/png": "[encoded data removed]",
      "text/plain": [
       "<Figure size 432x288 with 1 Axes>"
      ]
     },
     "metadata": {
      "needs_background": "light"
     },
     "output_type": "display_data"
    }
   ],
   "source": [
    "df.groupby(['classified_type', 'classified_energy_heatingType'])[\"classified_price\"].mean().unstack().plot(kind='bar',stacked=True)\n",
    "plt.gca().yaxis.set_major_formatter(FormatStrFormatter('%d euro'))\n",
    "plt.savefig('propheatingtype.png',bbox_inches='tight')"
   ]
  },
  {
   "cell_type": "code",
   "execution_count": 48,
   "id": "854ce5c6",
   "metadata": {
    "slideshow": {
     "slide_type": "skip"
    }
   },
   "outputs": [],
   "source": [
    "#%%bash\n",
    "#jupyter nbconvert 'C:/Users\\PC\\Desktop\\becode_projects\\Immoeliza\\data_analysis\\data_analysis.ipynb' --to slides --ServePostProcessor.port=8910 --post serve"
   ]
  },
  {
   "cell_type": "code",
   "execution_count": 53,
   "id": "e30549b5",
   "metadata": {},
   "outputs": [
    {
     "data": {
      "text/plain": [
       "<AxesSubplot:xlabel='classified_energy_heatingType', ylabel='price'>"
      ]
     },
     "execution_count": 53,
     "metadata": {},
     "output_type": "execute_result"
    },
    {
     "data": {
      "image/png": "[encoded data removed]",
      "text/plain": [
       "<Figure size 432x288 with 1 Axes>"
      ]
     },
     "metadata": {
      "needs_background": "light"
     },
     "output_type": "display_data"
    }
   ],
   "source": [
    "df2 = df.groupby(['classified_type', 'classified_energy_heatingType'])[\"classified_price\"].mean()\n",
    "df2.unstack(\"classified_type\").plot.bar(color = ('yellow', 'blue'), ylabel ='price')"
   ]
  },
  {
   "cell_type": "code",
   "execution_count": null,
   "id": "cc19c4b5",
   "metadata": {},
   "outputs": [],
   "source": []
  }
 ],
 "metadata": {
  "kernelspec": {
   "display_name": "Python 3 (ipykernel)",
   "language": "python",
   "name": "python3"
  },
  "language_info": {
   "codemirror_mode": {
    "name": "ipython",
    "version": 3
   },
   "file_extension": ".py",
   "mimetype": "text/x-python",
   "name": "python",
   "nbconvert_exporter": "python",
   "pygments_lexer": "ipython3",
   "version": "3.10.2"
  }
 },
 "nbformat": 4,
 "nbformat_minor": 5
}
