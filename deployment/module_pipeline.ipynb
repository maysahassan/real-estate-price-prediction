{
 "cells": [
  {
   "cell_type": "code",
   "execution_count": 82,
   "metadata": {},
   "outputs": [],
   "source": [
    "import pandas as pd\n",
    "from sklearn.model_selection import train_test_split\n",
    "from sklearn.ensemble import RandomForestRegressor\n",
    "from sklearn.preprocessing import OneHotEncoder\n",
    "from sklearn.preprocessing import StandardScaler\n",
    "from sklearn.pipeline import Pipeline\n",
    "from sklearn.compose import ColumnTransformer\n",
    "from sklearn.metrics import mean_absolute_error\n",
    "from sklearn.impute import SimpleImputer\n",
    "from joblib import dump"
   ]
  },
  {
   "cell_type": "code",
   "execution_count": 84,
   "metadata": {},
   "outputs": [
    {
     "data": {
      "text/html": [
       "<div>\n",
       "<style scoped>\n",
       "    .dataframe tbody tr th:only-of-type {\n",
       "        vertical-align: middle;\n",
       "    }\n",
       "\n",
       "    .dataframe tbody tr th {\n",
       "        vertical-align: top;\n",
       "    }\n",
       "\n",
       "    .dataframe thead th {\n",
       "        text-align: right;\n",
       "    }\n",
       "</style>\n",
       "<table border=\"1\" class=\"dataframe\">\n",
       "  <thead>\n",
       "    <tr style=\"text-align: right;\">\n",
       "      <th></th>\n",
       "      <th>zip</th>\n",
       "      <th>province</th>\n",
       "      <th>building_type</th>\n",
       "      <th>bedroom</th>\n",
       "      <th>construction_Year</th>\n",
       "      <th>price</th>\n",
       "      <th>heating_type</th>\n",
       "      <th>land_surface</th>\n",
       "    </tr>\n",
       "  </thead>\n",
       "  <tbody>\n",
       "    <tr>\n",
       "      <th>0</th>\n",
       "      <td>2940</td>\n",
       "      <td>Antwerp</td>\n",
       "      <td>HOUSE</td>\n",
       "      <td>3</td>\n",
       "      <td>1955</td>\n",
       "      <td>250000</td>\n",
       "      <td>ELECTRIC</td>\n",
       "      <td>340</td>\n",
       "    </tr>\n",
       "    <tr>\n",
       "      <th>1</th>\n",
       "      <td>2070</td>\n",
       "      <td>Antwerp</td>\n",
       "      <td>HOUSE</td>\n",
       "      <td>3</td>\n",
       "      <td>1955</td>\n",
       "      <td>389000</td>\n",
       "      <td>GAS</td>\n",
       "      <td>256</td>\n",
       "    </tr>\n",
       "    <tr>\n",
       "      <th>2</th>\n",
       "      <td>2910</td>\n",
       "      <td>Antwerp</td>\n",
       "      <td>HOUSE</td>\n",
       "      <td>3</td>\n",
       "      <td>1947</td>\n",
       "      <td>285000</td>\n",
       "      <td>GAS</td>\n",
       "      <td>427</td>\n",
       "    </tr>\n",
       "    <tr>\n",
       "      <th>3</th>\n",
       "      <td>2950</td>\n",
       "      <td>Antwerp</td>\n",
       "      <td>HOUSE</td>\n",
       "      <td>5</td>\n",
       "      <td>1950</td>\n",
       "      <td>299000</td>\n",
       "      <td>GAS</td>\n",
       "      <td>140</td>\n",
       "    </tr>\n",
       "    <tr>\n",
       "      <th>4</th>\n",
       "      <td>2300</td>\n",
       "      <td>Antwerp</td>\n",
       "      <td>HOUSE</td>\n",
       "      <td>3</td>\n",
       "      <td>2022</td>\n",
       "      <td>421400</td>\n",
       "      <td>GAS</td>\n",
       "      <td>324</td>\n",
       "    </tr>\n",
       "  </tbody>\n",
       "</table>\n",
       "</div>"
      ],
      "text/plain": [
       "    zip province building_type  bedroom  construction_Year   price  \\\n",
       "0  2940  Antwerp         HOUSE        3               1955  250000   \n",
       "1  2070  Antwerp         HOUSE        3               1955  389000   \n",
       "2  2910  Antwerp         HOUSE        3               1947  285000   \n",
       "3  2950  Antwerp         HOUSE        5               1950  299000   \n",
       "4  2300  Antwerp         HOUSE        3               2022  421400   \n",
       "\n",
       "  heating_type  land_surface  \n",
       "0     ELECTRIC           340  \n",
       "1          GAS           256  \n",
       "2          GAS           427  \n",
       "3          GAS           140  \n",
       "4          GAS           324  "
      ]
     },
     "execution_count": 84,
     "metadata": {},
     "output_type": "execute_result"
    }
   ],
   "source": [
    "df = pd.read_csv(r\"property_data.csv\")\n",
    "df.head()"
   ]
  },
  {
   "cell_type": "code",
   "execution_count": 85,
   "metadata": {},
   "outputs": [],
   "source": [
    "y = df['price']\n",
    "x = df.drop(['price'], axis=1)"
   ]
  },
  {
   "cell_type": "code",
   "execution_count": 86,
   "metadata": {},
   "outputs": [],
   "source": [
    "X_train, X_test, y_train, y_test = train_test_split(x, y, test_size = 0.2, random_state=0)"
   ]
  },
  {
   "cell_type": "code",
   "execution_count": 88,
   "metadata": {},
   "outputs": [],
   "source": [
    "numeric_features = ['land_surface','bedroom','construction_Year']\n",
    "numeric_transformer = Pipeline(\n",
    "    steps=[(\"imputer\", SimpleImputer(strategy=\"median\")), (\"scaler\", StandardScaler())]\n",
    ")\n",
    "\n",
    "categorical_features = ['zip','building_type','province','heating_type']\n",
    "categorical_transformer = OneHotEncoder(sparse = False,handle_unknown=\"ignore\")\n",
    "\n",
    "preprocessor = ColumnTransformer(\n",
    "    transformers=[\n",
    "        (\"num\", numeric_transformer, numeric_features),\n",
    "        (\"cat\", categorical_transformer, categorical_features),\n",
    "    ]\n",
    ")"
   ]
  },
  {
   "cell_type": "code",
   "execution_count": 89,
   "metadata": {},
   "outputs": [
    {
     "name": "stdout",
     "output_type": "stream",
     "text": [
      "model score: 0.696\n"
     ]
    }
   ],
   "source": [
    "pipe = Pipeline(\n",
    "    steps=[(\"preprocessor\", preprocessor), (\"module\", RandomForestRegressor())]\n",
    ")\n",
    "\n",
    "pipe.fit(X_train, y_train)\n",
    "dump(pipe, 'pipe.joblib')\n",
    "\n",
    "print(\"model score: %.3f\" % pipe.score(X_test, y_test))"
   ]
  },
  {
   "cell_type": "code",
   "execution_count": 91,
   "metadata": {},
   "outputs": [
    {
     "name": "stdout",
     "output_type": "stream",
     "text": [
      "MAE: 155972.5649865857\n"
     ]
    }
   ],
   "source": [
    "preds = pipe.predict(X_test)\n",
    "   \n",
    "print('MAE:', mean_absolute_error(y_test, preds))\n"
   ]
  }
 ],
 "metadata": {
  "kernelspec": {
   "display_name": "Python 3.10.2 ('env': venv)",
   "language": "python",
   "name": "python3"
  },
  "language_info": {
   "codemirror_mode": {
    "name": "ipython",
    "version": 3
   },
   "file_extension": ".py",
   "mimetype": "text/x-python",
   "name": "python",
   "nbconvert_exporter": "python",
   "pygments_lexer": "ipython3",
   "version": "3.10.2"
  },
  "orig_nbformat": 4,
  "vscode": {
   "interpreter": {
    "hash": "e21a06a2f8691d38f47b04d2cba518ca63b5f8d0a99c8add207d5917c7d6ca88"
   }
  }
 },
 "nbformat": 4,
 "nbformat_minor": 2
}
