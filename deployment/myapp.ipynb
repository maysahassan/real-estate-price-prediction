{
 "cells": [
  {
   "cell_type": "code",
   "execution_count": 10,
   "metadata": {},
   "outputs": [
    {
     "name": "stdout",
     "output_type": "stream",
     "text": [
      "result: {\n",
      "  \"price\": 438470.0\n",
      "}\n",
      "\n",
      "status_code: 200\n"
     ]
    }
   ],
   "source": [
    "import requests\n",
    "import json\n",
    "from flask import Flask, jsonify, request\n",
    "\n",
    "\n",
    "\n",
    "dic = {\"building_type\":\"HOUSE\",\"province\":\"Antwerp\",\"bedroom\":4,\n",
    "\"heating_type\":\"GAS\",\"zip\": 2070,\"construction_Year\": 1961, \"land_surface\": 240}\n",
    "\n",
    "url = \"http://127.0.0.1:5000/predict\"\n",
    "response = requests.get(url, params=dic)\n",
    "\n",
    "print(\"result:\", response.text)\n",
    "print(\"status_code:\", response.status_code)"
   ]
  },
  {
   "cell_type": "code",
   "execution_count": null,
   "metadata": {},
   "outputs": [],
   "source": []
  }
 ],
 "metadata": {
  "kernelspec": {
   "display_name": "Python 3.10.2 ('env': venv)",
   "language": "python",
   "name": "python3"
  },
  "language_info": {
   "codemirror_mode": {
    "name": "ipython",
    "version": 3
   },
   "file_extension": ".py",
   "mimetype": "text/x-python",
   "name": "python",
   "nbconvert_exporter": "python",
   "pygments_lexer": "ipython3",
   "version": "3.10.2"
  },
  "orig_nbformat": 4,
  "vscode": {
   "interpreter": {
    "hash": "e21a06a2f8691d38f47b04d2cba518ca63b5f8d0a99c8add207d5917c7d6ca88"
   }
  }
 },
 "nbformat": 4,
 "nbformat_minor": 2
}
